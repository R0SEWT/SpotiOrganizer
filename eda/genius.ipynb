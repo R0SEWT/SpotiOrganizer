{
 "cells": [
  {
   "cell_type": "code",
   "execution_count": 1,
   "metadata": {},
   "outputs": [
    {
     "name": "stdout",
     "output_type": "stream",
     "text": [
      "Collecting lyricsgenius\n",
      "  Downloading lyricsgenius-3.0.1-py3-none-any.whl.metadata (6.0 kB)\n",
      "Collecting beautifulsoup4>=4.6.0 (from lyricsgenius)\n",
      "  Using cached beautifulsoup4-4.12.3-py3-none-any.whl.metadata (3.8 kB)\n",
      "Collecting requests>=2.20.0 (from lyricsgenius)\n",
      "  Using cached requests-2.32.3-py3-none-any.whl.metadata (4.6 kB)\n",
      "Collecting soupsieve>1.2 (from beautifulsoup4>=4.6.0->lyricsgenius)\n",
      "  Using cached soupsieve-2.6-py3-none-any.whl.metadata (4.6 kB)\n",
      "Collecting charset-normalizer<4,>=2 (from requests>=2.20.0->lyricsgenius)\n",
      "  Downloading charset_normalizer-3.4.0-cp313-cp313-manylinux_2_17_x86_64.manylinux2014_x86_64.whl.metadata (34 kB)\n",
      "Collecting idna<4,>=2.5 (from requests>=2.20.0->lyricsgenius)\n",
      "  Using cached idna-3.10-py3-none-any.whl.metadata (10 kB)\n",
      "Collecting urllib3<3,>=1.21.1 (from requests>=2.20.0->lyricsgenius)\n",
      "  Using cached urllib3-2.2.3-py3-none-any.whl.metadata (6.5 kB)\n",
      "Collecting certifi>=2017.4.17 (from requests>=2.20.0->lyricsgenius)\n",
      "  Using cached certifi-2024.8.30-py3-none-any.whl.metadata (2.2 kB)\n",
      "Downloading lyricsgenius-3.0.1-py3-none-any.whl (59 kB)\n",
      "Using cached beautifulsoup4-4.12.3-py3-none-any.whl (147 kB)\n",
      "Using cached requests-2.32.3-py3-none-any.whl (64 kB)\n",
      "Using cached certifi-2024.8.30-py3-none-any.whl (167 kB)\n",
      "Downloading charset_normalizer-3.4.0-cp313-cp313-manylinux_2_17_x86_64.manylinux2014_x86_64.whl (144 kB)\n",
      "Using cached idna-3.10-py3-none-any.whl (70 kB)\n",
      "Using cached soupsieve-2.6-py3-none-any.whl (36 kB)\n",
      "Using cached urllib3-2.2.3-py3-none-any.whl (126 kB)\n",
      "Installing collected packages: urllib3, soupsieve, idna, charset-normalizer, certifi, requests, beautifulsoup4, lyricsgenius\n",
      "Successfully installed beautifulsoup4-4.12.3 certifi-2024.8.30 charset-normalizer-3.4.0 idna-3.10 lyricsgenius-3.0.1 requests-2.32.3 soupsieve-2.6 urllib3-2.2.3\n"
     ]
    }
   ],
   "source": [
    "!pip install lyricsgenius"
   ]
  },
  {
   "cell_type": "code",
   "execution_count": 12,
   "metadata": {},
   "outputs": [
    {
     "name": "stdout",
     "output_type": "stream",
     "text": [
      "(571, 3)\n"
     ]
    },
    {
     "data": {
      "text/html": [
       "<div>\n",
       "<style scoped>\n",
       "    .dataframe tbody tr th:only-of-type {\n",
       "        vertical-align: middle;\n",
       "    }\n",
       "\n",
       "    .dataframe tbody tr th {\n",
       "        vertical-align: top;\n",
       "    }\n",
       "\n",
       "    .dataframe thead th {\n",
       "        text-align: right;\n",
       "    }\n",
       "</style>\n",
       "<table border=\"1\" class=\"dataframe\">\n",
       "  <thead>\n",
       "    <tr style=\"text-align: right;\">\n",
       "      <th></th>\n",
       "      <th>id</th>\n",
       "      <th>name</th>\n",
       "      <th>artist</th>\n",
       "    </tr>\n",
       "  </thead>\n",
       "  <tbody>\n",
       "    <tr>\n",
       "      <th>0</th>\n",
       "      <td>3D4iziSjHi4jxG8r4pta7z</td>\n",
       "      <td>Santiago De Chile</td>\n",
       "      <td>Los Bunkers</td>\n",
       "    </tr>\n",
       "    <tr>\n",
       "      <th>1</th>\n",
       "      <td>19CmuECYssqkPWANF4nLWM</td>\n",
       "      <td>Para No Verte Más</td>\n",
       "      <td>La Mosca Tse-Tse</td>\n",
       "    </tr>\n",
       "    <tr>\n",
       "      <th>2</th>\n",
       "      <td>2LsbizbOeNa4x6qsi2jAMb</td>\n",
       "      <td>La flaca</td>\n",
       "      <td>Jarabe De Palo</td>\n",
       "    </tr>\n",
       "    <tr>\n",
       "      <th>3</th>\n",
       "      <td>6hBfF54vgIAdtb5kbbvt75</td>\n",
       "      <td>Nada Nuevo Bajo El Sol</td>\n",
       "      <td>Los Bunkers</td>\n",
       "    </tr>\n",
       "    <tr>\n",
       "      <th>4</th>\n",
       "      <td>1qgtSWA2GbpAXfyC51M1ph</td>\n",
       "      <td>Por Ti</td>\n",
       "      <td>4x3</td>\n",
       "    </tr>\n",
       "  </tbody>\n",
       "</table>\n",
       "</div>"
      ],
      "text/plain": [
       "                       id                    name            artist\n",
       "0  3D4iziSjHi4jxG8r4pta7z       Santiago De Chile       Los Bunkers\n",
       "1  19CmuECYssqkPWANF4nLWM       Para No Verte Más  La Mosca Tse-Tse\n",
       "2  2LsbizbOeNa4x6qsi2jAMb                La flaca    Jarabe De Palo\n",
       "3  6hBfF54vgIAdtb5kbbvt75  Nada Nuevo Bajo El Sol       Los Bunkers\n",
       "4  1qgtSWA2GbpAXfyC51M1ph                  Por Ti               4x3"
      ]
     },
     "execution_count": 12,
     "metadata": {},
     "output_type": "execute_result"
    }
   ],
   "source": [
    "# cargar el archivo CSV\n",
    "import pandas as pd\n",
    "import numpy as np\n",
    "import matplotlib.pyplot as plt\n",
    "import seaborn as sns\n",
    "\n",
    "df = pd.read_csv('spotify_likes.csv')\n",
    "df = df[[\"id\", \"name\", \"artist\"]]\n",
    "print(df.shape)\n",
    "df.head()"
   ]
  },
  {
   "cell_type": "code",
   "execution_count": null,
   "metadata": {},
   "outputs": [
    {
     "name": "stdout",
     "output_type": "stream",
     "text": [
      "Searching for songs by Los Bunkers...\n",
      "\n",
      "Song 1: \"Abril\"\n",
      "Song 2: \"Ahora Que No Estás\"\n",
      "Song 3: \"Al Final De Este Viaje En La Vida\"\n",
      "\n",
      "Reached user-specified song limit (3).\n",
      "Done. Found 3 songs.\n",
      "[Song(id, artist, ...), Song(id, artist, ...), Song(id, artist, ...)]\n"
     ]
    }
   ],
   "source": [
    "import lyricsgenius\n",
    "\n",
    "# dejo la clave aqui porque ya esta expuesta en un repositorio de github\n",
    "genius = lyricsgenius.Genius(\"0WltQQ-KU7qytdv4y1RR-pvGqmiIZf9B7iMi8TFqZuanDc2qAH3byfOmoqOl-PhG\")\n",
    "\n",
    "artist_name = df['artist'][0]\n",
    "\n",
    "artist = genius.search_artist(artist_name, max_songs=3, sort=\"title\")\n",
    "print(artist.songs)\n"
   ]
  },
  {
   "cell_type": "code",
   "execution_count": 15,
   "metadata": {},
   "outputs": [
    {
     "name": "stdout",
     "output_type": "stream",
     "text": [
      "Searching for \"Santiago De Chile\" by Los Bunkers...\n",
      "Done.\n",
      "4 ContributorsSantiago De Chile LyricsAllí amé a una mujer terrible\n",
      "Llorando por el humo siempre eterno\n",
      "De aquella ciudad acorralada\n",
      "Por símbolos de invierno\n",
      "\n",
      "Allí aprendí a quitar con piel el frío\n",
      "Y a echar luego mi cuerpo a la llovizna\n",
      "En manos de la niebla dura y blanca\n",
      "En calles del enigma\n",
      "\n",
      "Eso no está muerto\n",
      "No me lo mataron\n",
      "Ni con la distancia\n",
      "Ni con el vil soldado\n",
      "\n",
      "Eso no está muerto\n",
      "No me lo mataron\n",
      "Ni con la distancia\n",
      "Ni con el vil soldado\n",
      "\n",
      "Hasta allí me siguió como una sombra\n",
      "El rostro del que ya no se veía\n",
      "Y en el oído me susurró la muerte\n",
      "Que ya aparecería\n",
      "\n",
      "Allí yo tuve un odio una vergüenza\n",
      "Niños mendigos de la madrugada\n",
      "Y el deseo de cambiar cada cuerda\n",
      "Por un saco de balas\n",
      "You might also likeEso no está muerto\n",
      "No me lo mataron\n",
      "Ni con la distancia\n",
      "Ni con el vil soldado\n",
      "\n",
      "Eso no está muerto\n",
      "No me lo mataron\n",
      "Ni con la distancia\n",
      "Ni con el vil soldado\n",
      "\n",
      "Eso no está muerto\n",
      "No me lo mataron\n",
      "Ni con la distancia\n",
      "Ni con el vil soldado\n",
      "\n",
      "Eso no está muerto\n",
      "No me lo mataron\n",
      "Ni con la distancia\n",
      "Ni con el vil soldado\n",
      "\n",
      "Eso no está muerto\n",
      "No me lo mataron\n",
      "\n",
      "Eso no está muerto\n",
      "Allí amé a una mujer terrible2Embed\n"
     ]
    }
   ],
   "source": [
    "# Way 1\n",
    "song_name = df['name'][0]\n",
    "\n",
    "song = genius.search_song(song_name, artist.name)\n",
    "\n",
    "# Way 2\n",
    "# this will search artist.songs first\n",
    "# and if not found, uses search_song\n",
    "#song = artist.song(\"To You\")\n",
    "\n",
    "print(song.lyrics)"
   ]
  },
  {
   "cell_type": "code",
   "execution_count": null,
   "metadata": {},
   "outputs": [],
   "source": []
  }
 ],
 "metadata": {
  "kernelspec": {
   "display_name": "TF-DataApli",
   "language": "python",
   "name": "python3"
  },
  "language_info": {
   "codemirror_mode": {
    "name": "ipython",
    "version": 3
   },
   "file_extension": ".py",
   "mimetype": "text/x-python",
   "name": "python",
   "nbconvert_exporter": "python",
   "pygments_lexer": "ipython3",
   "version": "3.13.0"
  }
 },
 "nbformat": 4,
 "nbformat_minor": 2
}
