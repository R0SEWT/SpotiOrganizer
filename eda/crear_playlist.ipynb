{
 "cells": [
  {
   "cell_type": "code",
   "execution_count": 1,
   "metadata": {},
   "outputs": [],
   "source": [
    "import pandas as pd\n",
    "import numpy as np"
   ]
  },
  {
   "cell_type": "code",
   "execution_count": 2,
   "metadata": {},
   "outputs": [],
   "source": [
    "df = pd.read_csv('playlist_spotify.csv')"
   ]
  },
  {
   "cell_type": "code",
   "execution_count": 6,
   "metadata": {},
   "outputs": [],
   "source": [
    "from dotenv import load_dotenv\n",
    "import os\n",
    "import spotipy\n",
    "from spotipy.oauth2 import SpotifyOAuth\n",
    "\n",
    "\n",
    "load_dotenv(\".env\")\n",
    "\n",
    "scope = 'user-library-read,playlist-modify-public,playlist-modify-private'\n",
    "\n",
    "sp = spotipy.Spotify(auth_manager=SpotifyOAuth(\n",
    "    client_id=os.getenv('SPOTIPY_CLIENT_ID'),\n",
    "    client_secret=os.getenv('SPOTIPY_CLIENT_SECRET'),\n",
    "    redirect_uri=os.getenv('REDIRECT_URI'),\n",
    "    scope=scope\n",
    "))"
   ]
  },
  {
   "cell_type": "code",
   "execution_count": 7,
   "metadata": {},
   "outputs": [
    {
     "name": "stdout",
     "output_type": "stream",
     "text": [
      "11\n"
     ]
    }
   ],
   "source": [
    "n_clusters = df['cluster'].max() + 1\n",
    "print(n_clusters)"
   ]
  },
  {
   "cell_type": "code",
   "execution_count": 10,
   "metadata": {},
   "outputs": [
    {
     "name": "stderr",
     "output_type": "stream",
     "text": [
      "Creando listas de reproducción:   0%|          | 0/11 [00:00<?, ?cluster/s]"
     ]
    },
    {
     "name": "stdout",
     "output_type": "stream",
     "text": [
      "Añadiendo 14 pistas a la playlist 0akDzxMrMXNsAJrsrUslqQ\n"
     ]
    },
    {
     "name": "stderr",
     "output_type": "stream",
     "text": [
      "100%|██████████| 1/1 [00:00<00:00,  3.13it/s]\n",
      "Creando listas de reproducción:   9%|▉         | 1/11 [00:00<00:09,  1.10cluster/s]"
     ]
    },
    {
     "name": "stdout",
     "output_type": "stream",
     "text": [
      "Añadiendo 20 pistas a la playlist 66dcVZKTnGG7EOLYyK1tnY\n"
     ]
    },
    {
     "name": "stderr",
     "output_type": "stream",
     "text": [
      "100%|██████████| 1/1 [00:00<00:00,  3.72it/s]\n",
      "Creando listas de reproducción:  18%|█▊        | 2/11 [00:01<00:07,  1.20cluster/s]"
     ]
    },
    {
     "name": "stdout",
     "output_type": "stream",
     "text": [
      "Añadiendo 394 pistas a la playlist 3O47kKTgwlgRtSpV5AptZa\n"
     ]
    },
    {
     "name": "stderr",
     "output_type": "stream",
     "text": [
      "100%|██████████| 4/4 [00:01<00:00,  3.57it/s]\n",
      "Creando listas de reproducción:  27%|██▋       | 3/11 [00:03<00:09,  1.19s/cluster]"
     ]
    },
    {
     "name": "stdout",
     "output_type": "stream",
     "text": [
      "Añadiendo 2 pistas a la playlist 2Ty3mQxrMvgDr5t75YKYYr\n"
     ]
    },
    {
     "name": "stderr",
     "output_type": "stream",
     "text": [
      "100%|██████████| 1/1 [00:00<00:00,  3.49it/s]\n",
      "Creando listas de reproducción:  36%|███▋      | 4/11 [00:04<00:07,  1.03s/cluster]"
     ]
    },
    {
     "name": "stdout",
     "output_type": "stream",
     "text": [
      "Añadiendo 35 pistas a la playlist 54fr5iUPbgAQEIpeC5LDPB\n"
     ]
    },
    {
     "name": "stderr",
     "output_type": "stream",
     "text": [
      "100%|██████████| 1/1 [00:00<00:00,  3.27it/s]\n",
      "Creando listas de reproducción:  45%|████▌     | 5/11 [00:04<00:05,  1.05cluster/s]"
     ]
    },
    {
     "name": "stdout",
     "output_type": "stream",
     "text": [
      "Añadiendo 8 pistas a la playlist 0A3E6z9yyuu2qKOlKBcDeD\n"
     ]
    },
    {
     "name": "stderr",
     "output_type": "stream",
     "text": [
      "100%|██████████| 1/1 [00:00<00:00,  3.84it/s]\n",
      "Creando listas de reproducción:  55%|█████▍    | 6/11 [00:05<00:04,  1.12cluster/s]"
     ]
    },
    {
     "name": "stdout",
     "output_type": "stream",
     "text": [
      "Añadiendo 54 pistas a la playlist 0F1oqbeLvZ24N1HPautaAV\n"
     ]
    },
    {
     "name": "stderr",
     "output_type": "stream",
     "text": [
      "100%|██████████| 1/1 [00:00<00:00,  3.69it/s]\n",
      "Creando listas de reproducción:  64%|██████▎   | 7/11 [00:06<00:03,  1.17cluster/s]"
     ]
    },
    {
     "name": "stdout",
     "output_type": "stream",
     "text": [
      "Añadiendo 33 pistas a la playlist 6Tgr0CCqhfhiiV86vfU1yZ\n"
     ]
    },
    {
     "name": "stderr",
     "output_type": "stream",
     "text": [
      "100%|██████████| 1/1 [00:00<00:00,  3.67it/s]\n",
      "Creando listas de reproducción:  73%|███████▎  | 8/11 [00:07<00:02,  1.21cluster/s]"
     ]
    },
    {
     "name": "stdout",
     "output_type": "stream",
     "text": [
      "Añadiendo 2 pistas a la playlist 6M7AZVKsTgy8yYDmA4scd8\n"
     ]
    },
    {
     "name": "stderr",
     "output_type": "stream",
     "text": [
      "100%|██████████| 1/1 [00:00<00:00,  3.75it/s]\n",
      "Creando listas de reproducción:  82%|████████▏ | 9/11 [00:07<00:01,  1.24cluster/s]"
     ]
    },
    {
     "name": "stdout",
     "output_type": "stream",
     "text": [
      "Añadiendo 8 pistas a la playlist 5BeYL3rvUxmSGXZkgc1ybf\n"
     ]
    },
    {
     "name": "stderr",
     "output_type": "stream",
     "text": [
      "100%|██████████| 1/1 [00:00<00:00,  3.53it/s]\n",
      "Creando listas de reproducción:  91%|█████████ | 10/11 [00:08<00:00,  1.24cluster/s]"
     ]
    },
    {
     "name": "stdout",
     "output_type": "stream",
     "text": [
      "Añadiendo 1 pistas a la playlist 6OJRFZPXf7Akb6rJY7gRi9\n"
     ]
    },
    {
     "name": "stderr",
     "output_type": "stream",
     "text": [
      "100%|██████████| 1/1 [00:00<00:00,  3.68it/s]\n",
      "Creando listas de reproducción: 100%|██████████| 11/11 [00:09<00:00,  1.15cluster/s]\n"
     ]
    }
   ],
   "source": [
    "import time\n",
    "from tqdm import tqdm\n",
    "\n",
    "def add_tracks_to_playlist(playlist_id, tracks):\n",
    "    print(f\"Añadiendo {len(tracks)} pistas a la playlist {playlist_id}\")\n",
    "    for i in tqdm(range(0, len(tracks), 100)):  # Dividir en lotes de 100\n",
    "        fails = 0\n",
    "        batch = tracks[i:i + 100]\n",
    "        try:\n",
    "            results = sp.playlist_add_items(playlist_id, batch)\n",
    "        except spotipy.exceptions.SpotifyException as e:\n",
    "            print(f\"Error al añadir pistas a la playlist {playlist_id}: {e}\")\n",
    "            # Esperar medio segundo antes de intentar de nuevo\n",
    "            time.sleep(0.5)\n",
    "            fails += 1\n",
    "            if fails > 10:\n",
    "                print(f\"Demasiados fallos, pasando al siguiente cluster\")\n",
    "                return\n",
    "            continue\n",
    "\n",
    "\n",
    "\n",
    "for i in tqdm(range(n_clusters), desc=\"Creando listas de reproducción\", unit=\"cluster\"):\n",
    "    cluster_tracks = df[df['cluster'] == i]\n",
    "    if not cluster_tracks.empty:\n",
    "        playlist_name = f\"Cluster {i+1} Playlist\"\n",
    "        \n",
    "        try:\n",
    "            # Crear la playlist\n",
    "            playlist = sp.user_playlist_create(user=sp.current_user()['id'], name=playlist_name)\n",
    "        except spotipy.exceptions.SpotifyException as e:\n",
    "            print(f\"Error al crear la playlist {playlist_name}: {e}\")\n",
    "            continue\n",
    "        \n",
    "        track_ids = cluster_tracks['id'].tolist()  # Obtener los IDs de las pistas directamente del DataFrame\n",
    "        \n",
    "        if track_ids:\n",
    "            try:\n",
    "                add_tracks_to_playlist(playlist['id'], track_ids)\n",
    "            except spotipy.exceptions.SpotifyException as e:\n",
    "                print(f\"Error al añadir pistas a la playlist {playlist_name}: {e}\")\n",
    "        else:\n",
    "            print(f\"No se añadieron pistas a la playlist: {playlist_name}\")\n",
    "        "
   ]
  }
 ],
 "metadata": {
  "kernelspec": {
   "display_name": "TF-DataApli",
   "language": "python",
   "name": "python3"
  },
  "language_info": {
   "codemirror_mode": {
    "name": "ipython",
    "version": 3
   },
   "file_extension": ".py",
   "mimetype": "text/x-python",
   "name": "python",
   "nbconvert_exporter": "python",
   "pygments_lexer": "ipython3",
   "version": "3.13.0"
  }
 },
 "nbformat": 4,
 "nbformat_minor": 2
}
