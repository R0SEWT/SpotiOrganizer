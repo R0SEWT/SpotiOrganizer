{
 "cells": [
  {
   "cell_type": "code",
   "execution_count": 10,
   "metadata": {},
   "outputs": [],
   "source": [
    "import pandas as pd\n",
    "import numpy as np"
   ]
  },
  {
   "cell_type": "code",
   "execution_count": 11,
   "metadata": {},
   "outputs": [],
   "source": [
    "df = pd.read_csv('playlist_spotify.csv')"
   ]
  },
  {
   "cell_type": "code",
   "execution_count": 12,
   "metadata": {},
   "outputs": [],
   "source": [
    "from dotenv import load_dotenv\n",
    "import os\n",
    "import spotipy\n",
    "from spotipy.oauth2 import SpotifyOAuth\n",
    "\n",
    "\n",
    "load_dotenv(\".env\")\n",
    "\n",
    "scope = 'user-library-read,playlist-modify-public,playlist-modify-private'\n",
    "\n",
    "sp = spotipy.Spotify(auth_manager=SpotifyOAuth(\n",
    "    client_id=os.getenv('SPOTIPY_CLIENT_ID'),\n",
    "    client_secret=os.getenv('SPOTIPY_CLIENT_SECRET'),\n",
    "    redirect_uri=os.getenv('SPOTIPY_REDIRECT_URI'),\n",
    "    scope=scope\n",
    "))"
   ]
  },
  {
   "cell_type": "code",
   "execution_count": 13,
   "metadata": {},
   "outputs": [
    {
     "name": "stdout",
     "output_type": "stream",
     "text": [
      "5\n"
     ]
    }
   ],
   "source": [
    "n_clusters = df['cluster'].max() + 1\n",
    "print(n_clusters)"
   ]
  },
  {
   "cell_type": "code",
   "execution_count": 14,
   "metadata": {},
   "outputs": [
    {
     "name": "stderr",
     "output_type": "stream",
     "text": [
      "Creando listas de reproducción:   0%|          | 0/5 [00:00<?, ?cluster/s]"
     ]
    },
    {
     "name": "stdout",
     "output_type": "stream",
     "text": [
      "Añadiendo 35 pistas a la playlist 2joPxAmtfVgVcYglmKW6go\n"
     ]
    },
    {
     "name": "stderr",
     "output_type": "stream",
     "text": [
      "100%|██████████| 1/1 [00:00<00:00,  3.17it/s]\n",
      "Creando listas de reproducción:  20%|██        | 1/5 [00:00<00:03,  1.01cluster/s]"
     ]
    },
    {
     "name": "stdout",
     "output_type": "stream",
     "text": [
      "Lista de reproducción creada: Cluster 1 Playlist\n",
      "Añadiendo 516 pistas a la playlist 2mHvPN0YMbdmt58K4DLchF\n"
     ]
    },
    {
     "name": "stderr",
     "output_type": "stream",
     "text": [
      "100%|██████████| 6/6 [00:01<00:00,  3.24it/s]\n",
      "Creando listas de reproducción:  40%|████      | 2/5 [00:03<00:05,  1.82s/cluster]"
     ]
    },
    {
     "name": "stdout",
     "output_type": "stream",
     "text": [
      "Lista de reproducción creada: Cluster 2 Playlist\n",
      "Añadiendo 1 pistas a la playlist 5nV9P1orsqOHWkZQteSLm7\n"
     ]
    },
    {
     "name": "stderr",
     "output_type": "stream",
     "text": [
      "100%|██████████| 1/1 [00:00<00:00,  3.35it/s]\n",
      "Creando listas de reproducción:  60%|██████    | 3/5 [00:04<00:02,  1.39s/cluster]"
     ]
    },
    {
     "name": "stdout",
     "output_type": "stream",
     "text": [
      "Lista de reproducción creada: Cluster 3 Playlist\n",
      "Añadiendo 14 pistas a la playlist 2LSYlJno7JMFKKwCdHj857\n"
     ]
    },
    {
     "name": "stderr",
     "output_type": "stream",
     "text": [
      "100%|██████████| 1/1 [00:00<00:00,  3.78it/s]\n",
      "Creando listas de reproducción:  80%|████████  | 4/5 [00:05<00:01,  1.15s/cluster]"
     ]
    },
    {
     "name": "stdout",
     "output_type": "stream",
     "text": [
      "Lista de reproducción creada: Cluster 4 Playlist\n",
      "Añadiendo 5 pistas a la playlist 0jpZHTLbe4RF6ZZl9Q3C1a\n"
     ]
    },
    {
     "name": "stderr",
     "output_type": "stream",
     "text": [
      "100%|██████████| 1/1 [00:00<00:00,  3.72it/s]\n",
      "Creando listas de reproducción: 100%|██████████| 5/5 [00:05<00:00,  1.18s/cluster]"
     ]
    },
    {
     "name": "stdout",
     "output_type": "stream",
     "text": [
      "Lista de reproducción creada: Cluster 5 Playlist\n"
     ]
    },
    {
     "name": "stderr",
     "output_type": "stream",
     "text": [
      "\n"
     ]
    }
   ],
   "source": [
    "import time\n",
    "from tqdm import tqdm\n",
    "\n",
    "def add_tracks_to_playlist(playlist_id, tracks):\n",
    "    print(f\"Añadiendo {len(tracks)} pistas a la playlist {playlist_id}\")\n",
    "    for i in tqdm(range(0, len(tracks), 100)):  # Dividir en lotes de 100\n",
    "        fails = 0\n",
    "        batch = tracks[i:i + 100]\n",
    "        try:\n",
    "            results = sp.playlist_add_items(playlist_id, batch)\n",
    "        except spotipy.exceptions.SpotifyException as e:\n",
    "            print(f\"Error al añadir pistas a la playlist {playlist_id}: {e}\")\n",
    "            # Esperar medio segundo antes de intentar de nuevo\n",
    "            time.sleep(0.5)\n",
    "            fails += 1\n",
    "            if fails > 10:\n",
    "                print(f\"Demasiados fallos, pasando al siguiente cluster\")\n",
    "                return\n",
    "            continue\n",
    "\n",
    "\n",
    "\n",
    "for i in tqdm(range(n_clusters), desc=\"Creando listas de reproducción\", unit=\"cluster\"):\n",
    "    cluster_tracks = df[df['cluster'] == i]\n",
    "    if not cluster_tracks.empty:\n",
    "        playlist_name = f\"Cluster {i+1} Playlist\"\n",
    "        \n",
    "        try:\n",
    "            # Crear la playlist\n",
    "            playlist = sp.user_playlist_create(user=sp.current_user()['id'], name=playlist_name)\n",
    "        except spotipy.exceptions.SpotifyException as e:\n",
    "            print(f\"Error al crear la playlist {playlist_name}: {e}\")\n",
    "            continue\n",
    "        \n",
    "        track_ids = cluster_tracks['id'].tolist()  # Obtener los IDs de las pistas directamente del DataFrame\n",
    "        \n",
    "        if track_ids:\n",
    "            try:\n",
    "                add_tracks_to_playlist(playlist['id'], track_ids)\n",
    "            except spotipy.exceptions.SpotifyException as e:\n",
    "                print(f\"Error al añadir pistas a la playlist {playlist_name}: {e}\")\n",
    "        else:\n",
    "            print(f\"No se añadieron pistas a la playlist: {playlist_name}\")"
   ]
  }
 ],
 "metadata": {
  "kernelspec": {
   "display_name": "spotify",
   "language": "python",
   "name": "python3"
  },
  "language_info": {
   "codemirror_mode": {
    "name": "ipython",
    "version": 3
   },
   "file_extension": ".py",
   "mimetype": "text/x-python",
   "name": "python",
   "nbconvert_exporter": "python",
   "pygments_lexer": "ipython3",
   "version": "3.12.4"
  }
 },
 "nbformat": 4,
 "nbformat_minor": 2
}
