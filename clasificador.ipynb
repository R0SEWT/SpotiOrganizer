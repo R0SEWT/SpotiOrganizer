{
 "cells": [
  {
   "cell_type": "code",
   "execution_count": 48,
   "metadata": {
    "vscode": {
     "languageId": "powershell"
    }
   },
   "outputs": [
    {
     "name": "stdout",
     "output_type": "stream",
     "text": [
      "Defaulting to user installation because normal site-packages is not writeable\n",
      "Requirement already satisfied: python-dotenv in c:\\users\\rodyv\\appdata\\local\\packages\\pythonsoftwarefoundation.python.3.12_qbz5n2kfra8p0\\localcache\\local-packages\\python312\\site-packages (1.0.1)\n",
      "Requirement already satisfied: spotipy in c:\\users\\rodyv\\appdata\\local\\packages\\pythonsoftwarefoundation.python.3.12_qbz5n2kfra8p0\\localcache\\local-packages\\python312\\site-packages (2.24.0)\n",
      "Requirement already satisfied: redis>=3.5.3 in c:\\users\\rodyv\\appdata\\local\\packages\\pythonsoftwarefoundation.python.3.12_qbz5n2kfra8p0\\localcache\\local-packages\\python312\\site-packages (from spotipy) (5.0.8)\n",
      "Requirement already satisfied: requests>=2.25.0 in c:\\users\\rodyv\\appdata\\local\\packages\\pythonsoftwarefoundation.python.3.12_qbz5n2kfra8p0\\localcache\\local-packages\\python312\\site-packages (from spotipy) (2.32.3)\n",
      "Requirement already satisfied: urllib3>=1.26.0 in c:\\users\\rodyv\\appdata\\local\\packages\\pythonsoftwarefoundation.python.3.12_qbz5n2kfra8p0\\localcache\\local-packages\\python312\\site-packages (from spotipy) (2.2.1)\n",
      "Requirement already satisfied: charset-normalizer<4,>=2 in c:\\users\\rodyv\\appdata\\local\\packages\\pythonsoftwarefoundation.python.3.12_qbz5n2kfra8p0\\localcache\\local-packages\\python312\\site-packages (from requests>=2.25.0->spotipy) (3.3.2)\n",
      "Requirement already satisfied: idna<4,>=2.5 in c:\\users\\rodyv\\appdata\\local\\packages\\pythonsoftwarefoundation.python.3.12_qbz5n2kfra8p0\\localcache\\local-packages\\python312\\site-packages (from requests>=2.25.0->spotipy) (3.7)\n",
      "Requirement already satisfied: certifi>=2017.4.17 in c:\\users\\rodyv\\appdata\\local\\packages\\pythonsoftwarefoundation.python.3.12_qbz5n2kfra8p0\\localcache\\local-packages\\python312\\site-packages (from requests>=2.25.0->spotipy) (2024.6.2)\n",
      "Note: you may need to restart the kernel to use updated packages.\n"
     ]
    },
    {
     "name": "stderr",
     "output_type": "stream",
     "text": [
      "\n",
      "[notice] A new release of pip is available: 24.1.1 -> 24.2\n",
      "[notice] To update, run: C:\\Users\\rodyv\\AppData\\Local\\Microsoft\\WindowsApps\\PythonSoftwareFoundation.Python.3.12_qbz5n2kfra8p0\\python.exe -m pip install --upgrade pip\n"
     ]
    }
   ],
   "source": [
    "pip install python-dotenv spotipy"
   ]
  },
  {
   "cell_type": "markdown",
   "metadata": {
    "vscode": {
     "languageId": "powershell"
    }
   },
   "source": [
    "# Extraccion de canciones \"Me gusta\" y creacion de playlist"
   ]
  },
  {
   "cell_type": "markdown",
   "metadata": {},
   "source": [
    "## Obtencion de canciones con me gusta"
   ]
  },
  {
   "cell_type": "code",
   "execution_count": 49,
   "metadata": {},
   "outputs": [],
   "source": [
    "import pandas as pd\n",
    "import numpy as np\n",
    "import matplotlib.pyplot as plt\n",
    "import seaborn as sns"
   ]
  },
  {
   "cell_type": "markdown",
   "metadata": {},
   "source": [
    "### Autenticacion"
   ]
  },
  {
   "cell_type": "code",
   "execution_count": 50,
   "metadata": {},
   "outputs": [],
   "source": [
    "from dotenv import load_dotenv\n",
    "import os\n",
    "import spotipy\n",
    "from spotipy.oauth2 import SpotifyOAuth\n",
    "\n",
    "# Cargar las variables desde el archivo .env\n",
    "load_dotenv(\".env\")\n",
    "\n",
    "scope = 'user-library-read,playlist-modify-public,playlist-modify-private'\n",
    "\n",
    "sp = spotipy.Spotify(auth_manager=SpotifyOAuth(\n",
    "    client_id=os.getenv('SPOTIPY_CLIENT_ID'),\n",
    "    client_secret=os.getenv('SPOTIPY_CLIENT_SECRET'),\n",
    "    redirect_uri=os.getenv('SPOTIPY_REDIRECT_URI'),\n",
    "    scope=scope\n",
    "))\n"
   ]
  },
  {
   "cell_type": "markdown",
   "metadata": {},
   "source": [
    "### Obtener canciones"
   ]
  },
  {
   "cell_type": "code",
   "execution_count": 51,
   "metadata": {},
   "outputs": [
    {
     "name": "stdout",
     "output_type": "stream",
     "text": [
      "Total de canciones: 573\n"
     ]
    }
   ],
   "source": [
    "\n",
    "results = sp.current_user_saved_tracks()\n",
    "tracks = results['items']\n",
    "\n",
    "while results['next']:\n",
    "    results = sp.next(results)\n",
    "    tracks.extend(results['items'])\n",
    "\n",
    "print(f'Total de canciones: {len(tracks)}')\n"
   ]
  },
  {
   "cell_type": "markdown",
   "metadata": {},
   "source": [
    "### DF con las canciones y sus generos asociados"
   ]
  },
  {
   "cell_type": "code",
   "execution_count": 67,
   "metadata": {},
   "outputs": [
    {
     "name": "stdout",
     "output_type": "stream",
     "text": [
      "[{'danceability': 0.761, 'energy': 0.535, 'key': 8, 'loudness': -7.665, 'mode': 1, 'speechiness': 0.06, 'acousticness': 0.882, 'instrumentalness': 0, 'liveness': 0.183, 'valence': 0.899, 'tempo': 90.965, 'type': 'audio_features', 'id': '1qgtSWA2GbpAXfyC51M1ph', 'uri': 'spotify:track:1qgtSWA2GbpAXfyC51M1ph', 'track_href': 'https://api.spotify.com/v1/tracks/1qgtSWA2GbpAXfyC51M1ph', 'analysis_url': 'https://api.spotify.com/v1/audio-analysis/1qgtSWA2GbpAXfyC51M1ph', 'duration_ms': 153209, 'time_signature': 4}]\n"
     ]
    },
    {
     "data": {
      "text/html": [
       "<div>\n",
       "<style scoped>\n",
       "    .dataframe tbody tr th:only-of-type {\n",
       "        vertical-align: middle;\n",
       "    }\n",
       "\n",
       "    .dataframe tbody tr th {\n",
       "        vertical-align: top;\n",
       "    }\n",
       "\n",
       "    .dataframe thead th {\n",
       "        text-align: right;\n",
       "    }\n",
       "</style>\n",
       "<table border=\"1\" class=\"dataframe\">\n",
       "  <thead>\n",
       "    <tr style=\"text-align: right;\">\n",
       "      <th></th>\n",
       "      <th>id</th>\n",
       "      <th>name</th>\n",
       "      <th>artist</th>\n",
       "      <th>album</th>\n",
       "      <th>genre</th>\n",
       "    </tr>\n",
       "  </thead>\n",
       "  <tbody>\n",
       "    <tr>\n",
       "      <th>0</th>\n",
       "      <td>1qgtSWA2GbpAXfyC51M1ph</td>\n",
       "      <td>Por Ti</td>\n",
       "      <td>4x3</td>\n",
       "      <td>Epílogo</td>\n",
       "      <td>[latin viral rap]</td>\n",
       "    </tr>\n",
       "  </tbody>\n",
       "</table>\n",
       "</div>"
      ],
      "text/plain": [
       "                       id    name artist    album              genre\n",
       "0  1qgtSWA2GbpAXfyC51M1ph  Por Ti    4x3  Epílogo  [latin viral rap]"
      ]
     },
     "execution_count": 67,
     "metadata": {},
     "output_type": "execute_result"
    }
   ],
   "source": [
    "# Extraer detalles de las canciones\n",
    "track_data = []\n",
    "for item in tracks:\n",
    "    track = item['track']\n",
    "    artist_info = sp.artist(track['artists'][0]['id'])\n",
    "    track_data.append({\n",
    "        'id': track['id'],\n",
    "        'name': track['name'],\n",
    "        'artist': track['artists'][0]['name'],\n",
    "        'album': track['album']['name'],\n",
    "        'genre': artist_info['genres']\n",
    "    })\n",
    "\n",
    "\n",
    "df = pd.DataFrame(track_data)\n",
    "df.head()\n"
   ]
  },
  {
   "cell_type": "code",
   "execution_count": 53,
   "metadata": {},
   "outputs": [
    {
     "name": "stdout",
     "output_type": "stream",
     "text": [
      "['dance rock', 'bases de freestyle', 'rap marseille', 'french soundtrack', 'viking metal', 'slavic folk metal', 'urbano mexicano', 'folk', 'nueva trova chilena', 'canadian metal', 'folk-pop', 'pop venezolano', 'rap metal espanol', 'drill espanol', 'urban contemporary', 'power metal', 'lo-fi vgm', 'mexican rock', 'ska mexicano', 'colombian indie', 'mexican hip hop', 'alternative rock', 'argentine alternative rock', 'icelandic indie', 'indie valenciana', 'gym phonk', 'pop rap', 'latin metal', 'canadian electropop', 'metalcore', 'glam punk', 'blues rock', 'reggae catala', 'russian metal', 'dream pop', 'neo-psychedelic', 'mexican pop', 'lounge', 'hopebeat', 'french hip hop', 'argentine telepop', 'spanish folk metal', 'hi-nrg', 'bedroom pop', 'argentine heavy metal', 'sad lo-fi', 'canto popular uruguayo', 'funk mtg', 'canadian punk', 'tatar pop', 'argentine reggae', 'hardcore punk espanol', 'disco', 'classic schlager', 'viral rap', \"women's music\", 'spanish rock', 'rap metal', 'rap', 'electro house', 'zolo', 'post-grunge', 'japanese soundtrack', 'trap mexicano', 'hard rock', 'australian hip hop', 'mexican indie', 'classical', 'british soul', 'cuarteto', 'pop rock', 'death metal', 'rap galego', 'ska jazz', 'downtempo', 'latin arena pop', 'groove metal', 'indie extremena', 'r&b francais', 'latin rock', 'classic italian pop', 'oulu metal', 'sad rap', 'drone', 'garage rock', 'stomp pop', 'k-pop', 'neo soul', 'progressive electro house', 'salsa colombiana', 'gangster rap', 'deep house', 'gauze pop', 'punk melodico chileno', 'corridos tumbados', 'classic peruvian pop', 'russian romanticism', 'metal', 'brutal death metal', 'lo-fi cover', 'permanent wave', 'canzone napoletana', 'sierreno', 'glee club', 'urbano espanol', 'indie poptimism', 'indie arequipeno', 'russian synthpop', 'classical era', 'trap triste', 'rock urbano mexicano', 'classic russian pop', 'shiver pop', 'pop dance', 'emo', 'symphonic rock', 'grave wave', 'rock', 'ambient lo-fi', 'soundtrack', 'singer-songwriter', 'punk galego', 'dance pop', 'russian rock', 'icelandic rock', 'early music', 'florida death metal', 'swing italiano', 'salsa venezolana', 'canadian rock', 'industrial metal', 'italian ska', 'la indie', 'metal galego', 'art pop', 'medieval rock', 'melodic groove metal', 'trap colombiano', 'art punk', 'country rock', 'pop ambient', 'nu metal', 'modern rock', 'polish classical', 'rap underground espanol', 'neo-synthpop', 'country', 'barbadian pop', 'brazilian groove metal', 'cumbia pop', 'indietronica', 'japanese vgm', 'trancecore', 'dark r&b', 'post-punk', 'spanish metal', 'punk', 'late romantic era', 'progressive house', 'australian pop', 'west coast rap', 'mallsoft', 'trap latino', 'steampunk', 'turkish deep house', 'anime score', 'german dance', 'uk pop', 'cantautor', 'southern hip hop', 'thrash metal', 'neo mellow', 'spanish hip hop', 'edm', 'rock en asturiano', 'musica popular uruguaya', 'argentine hip hop', 'moldovan pop', 'pov: indie', 'spanish indie pop', 'europop', 'lgbtq+ hip hop', 'r&b en espanol', 'vintage french electronic', 'rumba', 'ska argentino', 'rap francais', 'tropical house', 'latin alternative', 'filter house', 'latin pop', 'k-pop girl group', 'indie triste', 'vocal harmony group', 'cantautora mexicana', 'alternative hip hop', 'dissonant death metal', 'sheffield indie', 'pixel', 'indie game soundtrack', 'rap politico', 'baroque pop', 'classic swedish pop', 'ska', 'comic metal', 'rock en espanol', 'cali rap', 'post-teen pop', 'flamenco fusion', 'corrido', 'tropical', 'modern alternative rock', 'new wave pop', 'swedish pop', 'trap peruano', 'pop', 'funk metal', 'otacore', 'glam metal', 'la pop', 'deep pop edm', 'galician rock', 'boom bap espanol', 'latin viral pop', 'australian psych', 'trap venezolano', 'southern rock', 'uk doom metal', 'argentine rock', 'psychedelic rock', 'uruguayan indie', 'concepcion indie', 'punk urbano', 'art rock', 'italian baroque', 'technical death metal', 'musica mapuche', 'celtic metal', 'classic soundtrack', 'ukrainian phonk', 'latin viral rap', 'deathgrind', 'peruvian hip hop', 'uk alternative pop', 'brazilian thrash metal', 'phonk brasileiro', 'slavic metal', 'rap catala', 'murga', 'rock catala', 'trap', 'album rock', 'hyperpop en espanol', 'spanish reggae', 'swamp rock', 'soul jazz', 'electronica', 'mellow gold', 'pop urbaine', 'punk blues', 'krushfunk', 'stoner rock', 'mestissatge', 'melodic rap', 'eurodance', 'classic russian rock', 'ska catala', 'rap anime', 'punk euskera', 'compositional ambient', 'russian folk metal', 'british invasion', 'italian pop', 'modern blues rock', 'italian hip hop', 'salsa', 'cello', 'italian metal', 'musica criolla', 'metal mineiro', 'g funk', 'deep euro house', 'venezuelan hip hop', 'alternative metal', 'chicago rap', 'norwegian pop', 'lilith', 'folklore uruguayo', 'hip hop', 'reggaeton', 'metropopolis', 'melodic metalcore', 'weirdcore', 'pop peruano', 'deathrash', 'nordic folk metal', 'spanish punk', 'salsa puertorriquena', 'speed metal', 'sonora indie', 'baroque', 'andean flute', 'meme rap', 'house', 'industrial rock', 'rock uruguayo', 'mexican pop punk', 'pop electronico', 'orchestra', 'old school thrash', 'euskal rock', 'puerto rican pop', 'piano rock', 'norwegian hardcore', 'street punk espanol', 'peruvian indie', 'argentine indie', 'birmingham metal', 'electropop', 'uk dance', 'funk rock', 'drift phonk', 'pop argentino', 'r&b', 'indie rock italiano', 'canadian pop punk', 'spanish pop', 'italian underground hip hop', 'musique militaire', 'singer-songwriter pop', 'indie rock', 'background piano', 'turkish edm', 'british indie rock', 'chilean rock', 'nueva cancion', 'chilean indie', 'punk catala', 'symphonic metal', 'progressive rock', 'post-punk argentina', 'morelos indie', 'brazilian metal', 'electronic trap', 'musica valenciana', 'modern salsa', 'speedrun', 'latincore', 'dark cabaret', 'rock alternativo espanol', 'rap conciencia', 'ambient', 'indie veneto', 'classic rock', 'anime lo-fi', 'urbano latino', 'latin hip hop', 'russian folk', 'reggae uruguayo', 'cumbia villera', 'latin ska', 'musica andina', 'pop flamenco', 'tropical alternativo', 'new wave', 'electro', 'peruvian rock', 'rap latina', 'reggae peruano', 'pop punk', 'trap argentino', 'british orchestra', 'video game music', 'electronica argentina', 'folk metal', 'ska espanol', 'early romantic era']\n",
      "Total de géneros: 377\n"
     ]
    }
   ],
   "source": [
    "# todos los géneros\n",
    "all_genres = set()\n",
    "for genres in df['genre']:\n",
    "    all_genres.update(genres)\n",
    "\n",
    "all_genres = list(all_genres)\n",
    "print(all_genres)\n",
    "print(f'Total de géneros: {len(all_genres)}')"
   ]
  },
  {
   "cell_type": "markdown",
   "metadata": {},
   "source": [
    "sospechoso "
   ]
  },
  {
   "cell_type": "code",
   "execution_count": 54,
   "metadata": {},
   "outputs": [
    {
     "name": "stdout",
     "output_type": "stream",
     "text": [
      "['lgbtq+ hip hop']\n"
     ]
    },
    {
     "data": {
      "text/html": [
       "<div>\n",
       "<style scoped>\n",
       "    .dataframe tbody tr th:only-of-type {\n",
       "        vertical-align: middle;\n",
       "    }\n",
       "\n",
       "    .dataframe tbody tr th {\n",
       "        vertical-align: top;\n",
       "    }\n",
       "\n",
       "    .dataframe thead th {\n",
       "        text-align: right;\n",
       "    }\n",
       "</style>\n",
       "<table border=\"1\" class=\"dataframe\">\n",
       "  <thead>\n",
       "    <tr style=\"text-align: right;\">\n",
       "      <th></th>\n",
       "      <th>name</th>\n",
       "      <th>artist</th>\n",
       "      <th>album</th>\n",
       "      <th>genre</th>\n",
       "    </tr>\n",
       "  </thead>\n",
       "  <tbody>\n",
       "    <tr>\n",
       "      <th>403</th>\n",
       "      <td>INDUSTRY BABY (feat. Jack Harlow)</td>\n",
       "      <td>Lil Nas X</td>\n",
       "      <td>INDUSTRY BABY (feat. Jack Harlow)</td>\n",
       "      <td>[lgbtq+ hip hop]</td>\n",
       "    </tr>\n",
       "    <tr>\n",
       "      <th>480</th>\n",
       "      <td>Old Town Road - Remix</td>\n",
       "      <td>Lil Nas X</td>\n",
       "      <td>7 EP</td>\n",
       "      <td>[lgbtq+ hip hop]</td>\n",
       "    </tr>\n",
       "    <tr>\n",
       "      <th>559</th>\n",
       "      <td>MONTERO (Call Me By Your Name)</td>\n",
       "      <td>Lil Nas X</td>\n",
       "      <td>MONTERO (Call Me By Your Name)</td>\n",
       "      <td>[lgbtq+ hip hop]</td>\n",
       "    </tr>\n",
       "  </tbody>\n",
       "</table>\n",
       "</div>"
      ],
      "text/plain": [
       "                                  name     artist  \\\n",
       "403  INDUSTRY BABY (feat. Jack Harlow)  Lil Nas X   \n",
       "480              Old Town Road - Remix  Lil Nas X   \n",
       "559     MONTERO (Call Me By Your Name)  Lil Nas X   \n",
       "\n",
       "                                 album             genre  \n",
       "403  INDUSTRY BABY (feat. Jack Harlow)  [lgbtq+ hip hop]  \n",
       "480                               7 EP  [lgbtq+ hip hop]  \n",
       "559     MONTERO (Call Me By Your Name)  [lgbtq+ hip hop]  "
      ]
     },
     "execution_count": 54,
     "metadata": {},
     "output_type": "execute_result"
    }
   ],
   "source": [
    "# ver si genero contine lgbtq o alguna variacion\n",
    "lgbtq_genres = [genre for genre in all_genres if 'lgbtq' in genre.lower()]\n",
    "print(lgbtq_genres)\n",
    "# ver los registros que contienen lgbtq\n",
    "lgbtq_tracks = df[df['genre'].apply(lambda x: any([genre in x for genre in lgbtq_genres]))]\n",
    "lgbtq_tracks.head()\n"
   ]
  },
  {
   "cell_type": "markdown",
   "metadata": {},
   "source": [
    "## Clustering"
   ]
  },
  {
   "cell_type": "markdown",
   "metadata": {},
   "source": [
    "La idea es usar TF-IDF (Term Frecuency - Inverse Document Frecuency) para representar los generos como vectores numericos"
   ]
  },
  {
   "cell_type": "code",
   "execution_count": 55,
   "metadata": {},
   "outputs": [],
   "source": [
    "from sklearn.feature_extraction.text import TfidfVectorizer\n",
    "from sklearn.cluster import KMeans"
   ]
  },
  {
   "cell_type": "code",
   "execution_count": 56,
   "metadata": {},
   "outputs": [
    {
     "data": {
      "text/html": [
       "<div>\n",
       "<style scoped>\n",
       "    .dataframe tbody tr th:only-of-type {\n",
       "        vertical-align: middle;\n",
       "    }\n",
       "\n",
       "    .dataframe tbody tr th {\n",
       "        vertical-align: top;\n",
       "    }\n",
       "\n",
       "    .dataframe thead th {\n",
       "        text-align: right;\n",
       "    }\n",
       "</style>\n",
       "<table border=\"1\" class=\"dataframe\">\n",
       "  <thead>\n",
       "    <tr style=\"text-align: right;\">\n",
       "      <th></th>\n",
       "      <th>track</th>\n",
       "      <th>artist</th>\n",
       "      <th>genre</th>\n",
       "    </tr>\n",
       "  </thead>\n",
       "  <tbody>\n",
       "    <tr>\n",
       "      <th>0</th>\n",
       "      <td>Por Ti</td>\n",
       "      <td>4x3</td>\n",
       "      <td>latin viral rap</td>\n",
       "    </tr>\n",
       "    <tr>\n",
       "      <th>1</th>\n",
       "      <td>Locked out of Heaven</td>\n",
       "      <td>Bruno Mars</td>\n",
       "      <td>dance pop</td>\n",
       "    </tr>\n",
       "    <tr>\n",
       "      <th>2</th>\n",
       "      <td>Locked out of Heaven</td>\n",
       "      <td>Bruno Mars</td>\n",
       "      <td>pop</td>\n",
       "    </tr>\n",
       "    <tr>\n",
       "      <th>3</th>\n",
       "      <td>Umbrella</td>\n",
       "      <td>Rihanna</td>\n",
       "      <td>barbadian pop</td>\n",
       "    </tr>\n",
       "    <tr>\n",
       "      <th>4</th>\n",
       "      <td>Umbrella</td>\n",
       "      <td>Rihanna</td>\n",
       "      <td>pop</td>\n",
       "    </tr>\n",
       "  </tbody>\n",
       "</table>\n",
       "</div>"
      ],
      "text/plain": [
       "                  track      artist            genre\n",
       "0                Por Ti         4x3  latin viral rap\n",
       "1  Locked out of Heaven  Bruno Mars        dance pop\n",
       "2  Locked out of Heaven  Bruno Mars              pop\n",
       "3              Umbrella     Rihanna    barbadian pop\n",
       "4              Umbrella     Rihanna              pop"
      ]
     },
     "execution_count": 56,
     "metadata": {},
     "output_type": "execute_result"
    }
   ],
   "source": [
    "genres_list = [' '.join(genres) for genres in df['genre']]\n",
    "track_genre_mapping = []\n",
    "\n",
    "for i, genres in enumerate(df['genre']):\n",
    "    for genre in genres:\n",
    "        track_genre_mapping.append({\n",
    "            'track': df['name'][i],\n",
    "            'artist': df['artist'][i],\n",
    "            'genre': genre\n",
    "        })\n",
    "\n",
    "track_genre_df = pd.DataFrame(track_genre_mapping)\n",
    "\n",
    "track_genre_df.head()"
   ]
  },
  {
   "cell_type": "code",
   "execution_count": 57,
   "metadata": {},
   "outputs": [],
   "source": [
    "vectorizer = TfidfVectorizer(stop_words='english')\n",
    "X = vectorizer.fit_transform(genres_list) "
   ]
  },
  {
   "cell_type": "markdown",
   "metadata": {},
   "source": [
    "### K-Means para agrupar las canciones\n",
    "Se pueden seleccionar mejores parametros con el metodo del codo"
   ]
  },
  {
   "cell_type": "code",
   "execution_count": 58,
   "metadata": {},
   "outputs": [
    {
     "name": "stdout",
     "output_type": "stream",
     "text": [
      "\n",
      "Cluster 1 (15 canciones):\n",
      "                                                  name          artist  \\\n",
      "37   La leçon particulière - Bande originale du fil...     Francis Lai   \n",
      "67                                             Idea 22  Gibran Alcocer   \n",
      "105                                            Idea 10  Gibran Alcocer   \n",
      "166                                          Haggstrom           Curly   \n",
      "205                                        Kass' Theme           Mikel   \n",
      "\n",
      "                                                 genre  \n",
      "37   [classic soundtrack, french soundtrack, vintag...  \n",
      "67                                     [ambient lo-fi]  \n",
      "105                                    [ambient lo-fi]  \n",
      "166                                        [lo-fi vgm]  \n",
      "205                                        [lo-fi vgm]  \n",
      "\n",
      "Cluster 2 (61 canciones):\n",
      "                          name              artist  \\\n",
      "8                     El Viejo      La Vela Puerca   \n",
      "12           Un problema menos  El Cuarteto De Nos   \n",
      "39                  Tu postura          Once Tiros   \n",
      "42        El hijo de Hernández  El Cuarteto De Nos   \n",
      "60  Chivo Expiatorio - En Vivo  El Cuarteto De Nos   \n",
      "\n",
      "                                                genre  \n",
      "8   [latin alternative, reggae uruguayo, rock en e...  \n",
      "12                                    [rock uruguayo]  \n",
      "39   [argentine rock, reggae uruguayo, rock uruguayo]  \n",
      "42                                    [rock uruguayo]  \n",
      "60                                    [rock uruguayo]  \n",
      "\n",
      "Cluster 3 (97 canciones):\n",
      "                   name       artist  \\\n",
      "2  Locked out of Heaven   Bruno Mars   \n",
      "3              Umbrella      Rihanna   \n",
      "4           Carismático  Babasónicos   \n",
      "5           Темная ночь  Mark Bernes   \n",
      "6            The Nights       Avicii   \n",
      "\n",
      "                                               genre  \n",
      "2                                   [dance pop, pop]  \n",
      "3           [barbadian pop, pop, urban contemporary]  \n",
      "4  [argentine rock, electronica argentina, latin ...  \n",
      "5                [classic russian pop, russian folk]  \n",
      "6                   [dance pop, edm, pop, pop dance]  \n",
      "\n",
      "Cluster 4 (400 canciones):\n",
      "                               name  \\\n",
      "0                            Por Ti   \n",
      "1                   Inevitablemente   \n",
      "7                       Crazy Train   \n",
      "9          Montagem Mysterious Game   \n",
      "10  No Tengo Hambre, Tengo Ansiedad   \n",
      "\n",
      "                                          artist  \\\n",
      "0                                            4x3   \n",
      "1                                            D2o   \n",
      "7                                  Ozzy Osbourne   \n",
      "9                                         LXNGVX   \n",
      "10  Alan Sutton y las criaturitas de la ansiedad   \n",
      "\n",
      "                                                genre  \n",
      "0                                   [latin viral rap]  \n",
      "1                                                  []  \n",
      "7   [album rock, alternative metal, birmingham met...  \n",
      "9                              [gym phonk, krushfunk]  \n",
      "10                                                 []  \n"
     ]
    }
   ],
   "source": [
    "n_clusters = 4  # establecido por preferencias personales\n",
    "\n",
    "kmeans = KMeans(n_clusters=n_clusters, random_state=42)\n",
    "df['cluster'] = kmeans.fit_predict(X)\n",
    "\n",
    "# Mostrar las canciones agrupadas por cluster\n",
    "for i in range(n_clusters):\n",
    "    print(f\"\\nCluster {i+1} ({sum(df['cluster'] == i)} canciones):\")\n",
    "    cluster_tracks = df[df['cluster'] == i]\n",
    "    print(cluster_tracks[['name', 'artist', 'genre']].head(5))"
   ]
  },
  {
   "cell_type": "code",
   "execution_count": 61,
   "metadata": {},
   "outputs": [
    {
     "name": "stdout",
     "output_type": "stream",
     "text": [
      "Lista de reproducción creada: Cluster 1 Playlist\n",
      "Lista de reproducción creada: Cluster 2 Playlist\n",
      "Lista de reproducción creada: Cluster 3 Playlist\n",
      "No se encontró el track: You're so Cold de Two Feet\n",
      "No se encontró el track: The Less I Know the Sexy Back de Gold Slides\n",
      "No se encontró el track: Història d'Espanya (Explicada pels Espanyols) de Brams\n",
      "No se encontró el track: The Most Mysterious Song on the Internet de Scooter\n",
      "No se encontró el track: They Took the Like de BloodyD\n",
      "No se encontró el track: L'acqua der tevere de Rancore\n",
      "No se encontró el track: Danza dell'autumno rosa de Talco\n",
      "No se encontró el track: thought it was (feat. Machine Gun Kelly & Travis Barker) de iann dior\n"
     ]
    },
    {
     "name": "stderr",
     "output_type": "stream",
     "text": [
      "HTTP Error for POST to https://api.spotify.com/v1/playlists/3sT2fz2bRZ82NRNn4MnQnl/tracks with Params: {'position': None} returned 400 due to Too many ids requested\n"
     ]
    },
    {
     "ename": "SpotifyException",
     "evalue": "http status: 400, code:-1 - https://api.spotify.com/v1/playlists/3sT2fz2bRZ82NRNn4MnQnl/tracks:\n Too many ids requested, reason: None",
     "output_type": "error",
     "traceback": [
      "\u001b[1;31m---------------------------------------------------------------------------\u001b[0m",
      "\u001b[1;31mHTTPError\u001b[0m                                 Traceback (most recent call last)",
      "File \u001b[1;32m~\\AppData\\Local\\Packages\\PythonSoftwareFoundation.Python.3.12_qbz5n2kfra8p0\\LocalCache\\local-packages\\Python312\\site-packages\\spotipy\\client.py:275\u001b[0m, in \u001b[0;36mSpotify._internal_call\u001b[1;34m(self, method, url, payload, params)\u001b[0m\n\u001b[0;32m    270\u001b[0m response \u001b[38;5;241m=\u001b[39m \u001b[38;5;28mself\u001b[39m\u001b[38;5;241m.\u001b[39m_session\u001b[38;5;241m.\u001b[39mrequest(\n\u001b[0;32m    271\u001b[0m     method, url, headers\u001b[38;5;241m=\u001b[39mheaders, proxies\u001b[38;5;241m=\u001b[39m\u001b[38;5;28mself\u001b[39m\u001b[38;5;241m.\u001b[39mproxies,\n\u001b[0;32m    272\u001b[0m     timeout\u001b[38;5;241m=\u001b[39m\u001b[38;5;28mself\u001b[39m\u001b[38;5;241m.\u001b[39mrequests_timeout, \u001b[38;5;241m*\u001b[39m\u001b[38;5;241m*\u001b[39margs\n\u001b[0;32m    273\u001b[0m )\n\u001b[1;32m--> 275\u001b[0m \u001b[43mresponse\u001b[49m\u001b[38;5;241;43m.\u001b[39;49m\u001b[43mraise_for_status\u001b[49m\u001b[43m(\u001b[49m\u001b[43m)\u001b[49m\n\u001b[0;32m    276\u001b[0m results \u001b[38;5;241m=\u001b[39m response\u001b[38;5;241m.\u001b[39mjson()\n",
      "File \u001b[1;32m~\\AppData\\Local\\Packages\\PythonSoftwareFoundation.Python.3.12_qbz5n2kfra8p0\\LocalCache\\local-packages\\Python312\\site-packages\\requests\\models.py:1024\u001b[0m, in \u001b[0;36mResponse.raise_for_status\u001b[1;34m(self)\u001b[0m\n\u001b[0;32m   1023\u001b[0m \u001b[38;5;28;01mif\u001b[39;00m http_error_msg:\n\u001b[1;32m-> 1024\u001b[0m     \u001b[38;5;28;01mraise\u001b[39;00m HTTPError(http_error_msg, response\u001b[38;5;241m=\u001b[39m\u001b[38;5;28mself\u001b[39m)\n",
      "\u001b[1;31mHTTPError\u001b[0m: 400 Client Error: Bad Request for url: https://api.spotify.com/v1/playlists/3sT2fz2bRZ82NRNn4MnQnl/tracks",
      "\nDuring handling of the above exception, another exception occurred:\n",
      "\u001b[1;31mSpotifyException\u001b[0m                          Traceback (most recent call last)",
      "Cell \u001b[1;32mIn[61], line 18\u001b[0m\n\u001b[0;32m     16\u001b[0m \u001b[38;5;66;03m# Añadir las pistas a la playlist\u001b[39;00m\n\u001b[0;32m     17\u001b[0m \u001b[38;5;28;01mif\u001b[39;00m track_ids:\n\u001b[1;32m---> 18\u001b[0m     \u001b[43msp\u001b[49m\u001b[38;5;241;43m.\u001b[39;49m\u001b[43muser_playlist_add_tracks\u001b[49m\u001b[43m(\u001b[49m\u001b[43muser\u001b[49m\u001b[38;5;241;43m=\u001b[39;49m\u001b[43msp\u001b[49m\u001b[38;5;241;43m.\u001b[39;49m\u001b[43mcurrent_user\u001b[49m\u001b[43m(\u001b[49m\u001b[43m)\u001b[49m\u001b[43m[\u001b[49m\u001b[38;5;124;43m'\u001b[39;49m\u001b[38;5;124;43mid\u001b[39;49m\u001b[38;5;124;43m'\u001b[39;49m\u001b[43m]\u001b[49m\u001b[43m,\u001b[49m\u001b[43m \u001b[49m\u001b[43mplaylist_id\u001b[49m\u001b[38;5;241;43m=\u001b[39;49m\u001b[43mplaylist\u001b[49m\u001b[43m[\u001b[49m\u001b[38;5;124;43m'\u001b[39;49m\u001b[38;5;124;43mid\u001b[39;49m\u001b[38;5;124;43m'\u001b[39;49m\u001b[43m]\u001b[49m\u001b[43m,\u001b[49m\u001b[43m \u001b[49m\u001b[43mtracks\u001b[49m\u001b[38;5;241;43m=\u001b[39;49m\u001b[43mtrack_ids\u001b[49m\u001b[43m)\u001b[49m\n\u001b[0;32m     19\u001b[0m     \u001b[38;5;28mprint\u001b[39m(\u001b[38;5;124mf\u001b[39m\u001b[38;5;124m\"\u001b[39m\u001b[38;5;124mLista de reproducción creada: \u001b[39m\u001b[38;5;132;01m{\u001b[39;00mplaylist_name\u001b[38;5;132;01m}\u001b[39;00m\u001b[38;5;124m\"\u001b[39m)\n\u001b[0;32m     20\u001b[0m \u001b[38;5;28;01melse\u001b[39;00m:\n",
      "File \u001b[1;32m~\\AppData\\Local\\Packages\\PythonSoftwareFoundation.Python.3.12_qbz5n2kfra8p0\\LocalCache\\local-packages\\Python312\\site-packages\\spotipy\\client.py:891\u001b[0m, in \u001b[0;36mSpotify.user_playlist_add_tracks\u001b[1;34m(self, user, playlist_id, tracks, position)\u001b[0m\n\u001b[0;32m    882\u001b[0m \u001b[38;5;250m\u001b[39m\u001b[38;5;124;03m\"\"\" Adds tracks to a playlist\u001b[39;00m\n\u001b[0;32m    883\u001b[0m \n\u001b[0;32m    884\u001b[0m \u001b[38;5;124;03m    Parameters:\u001b[39;00m\n\u001b[1;32m   (...)\u001b[0m\n\u001b[0;32m    888\u001b[0m \u001b[38;5;124;03m        - position - the position to add the tracks\u001b[39;00m\n\u001b[0;32m    889\u001b[0m \u001b[38;5;124;03m\"\"\"\u001b[39;00m\n\u001b[0;32m    890\u001b[0m tracks \u001b[38;5;241m=\u001b[39m [\u001b[38;5;28mself\u001b[39m\u001b[38;5;241m.\u001b[39m_get_uri(\u001b[38;5;124m\"\u001b[39m\u001b[38;5;124mtrack\u001b[39m\u001b[38;5;124m\"\u001b[39m, tid) \u001b[38;5;28;01mfor\u001b[39;00m tid \u001b[38;5;129;01min\u001b[39;00m tracks]\n\u001b[1;32m--> 891\u001b[0m \u001b[38;5;28;01mreturn\u001b[39;00m \u001b[38;5;28;43mself\u001b[39;49m\u001b[38;5;241;43m.\u001b[39;49m\u001b[43mplaylist_add_items\u001b[49m\u001b[43m(\u001b[49m\u001b[43mplaylist_id\u001b[49m\u001b[43m,\u001b[49m\u001b[43m \u001b[49m\u001b[43mtracks\u001b[49m\u001b[43m,\u001b[49m\u001b[43m \u001b[49m\u001b[43mposition\u001b[49m\u001b[43m)\u001b[49m\n",
      "File \u001b[1;32m~\\AppData\\Local\\Packages\\PythonSoftwareFoundation.Python.3.12_qbz5n2kfra8p0\\LocalCache\\local-packages\\Python312\\site-packages\\spotipy\\client.py:1100\u001b[0m, in \u001b[0;36mSpotify.playlist_add_items\u001b[1;34m(self, playlist_id, items, position)\u001b[0m\n\u001b[0;32m   1098\u001b[0m plid \u001b[38;5;241m=\u001b[39m \u001b[38;5;28mself\u001b[39m\u001b[38;5;241m.\u001b[39m_get_id(\u001b[38;5;124m\"\u001b[39m\u001b[38;5;124mplaylist\u001b[39m\u001b[38;5;124m\"\u001b[39m, playlist_id)\n\u001b[0;32m   1099\u001b[0m ftracks \u001b[38;5;241m=\u001b[39m [\u001b[38;5;28mself\u001b[39m\u001b[38;5;241m.\u001b[39m_get_uri(\u001b[38;5;124m\"\u001b[39m\u001b[38;5;124mtrack\u001b[39m\u001b[38;5;124m\"\u001b[39m, tid) \u001b[38;5;28;01mfor\u001b[39;00m tid \u001b[38;5;129;01min\u001b[39;00m items]\n\u001b[1;32m-> 1100\u001b[0m \u001b[38;5;28;01mreturn\u001b[39;00m \u001b[38;5;28;43mself\u001b[39;49m\u001b[38;5;241;43m.\u001b[39;49m\u001b[43m_post\u001b[49m\u001b[43m(\u001b[49m\n\u001b[0;32m   1101\u001b[0m \u001b[43m    \u001b[49m\u001b[38;5;124;43mf\u001b[39;49m\u001b[38;5;124;43m\"\u001b[39;49m\u001b[38;5;124;43mplaylists/\u001b[39;49m\u001b[38;5;132;43;01m{\u001b[39;49;00m\u001b[43mplid\u001b[49m\u001b[38;5;132;43;01m}\u001b[39;49;00m\u001b[38;5;124;43m/tracks\u001b[39;49m\u001b[38;5;124;43m\"\u001b[39;49m\u001b[43m,\u001b[49m\n\u001b[0;32m   1102\u001b[0m \u001b[43m    \u001b[49m\u001b[43mpayload\u001b[49m\u001b[38;5;241;43m=\u001b[39;49m\u001b[43mftracks\u001b[49m\u001b[43m,\u001b[49m\n\u001b[0;32m   1103\u001b[0m \u001b[43m    \u001b[49m\u001b[43mposition\u001b[49m\u001b[38;5;241;43m=\u001b[39;49m\u001b[43mposition\u001b[49m\u001b[43m,\u001b[49m\n\u001b[0;32m   1104\u001b[0m \u001b[43m\u001b[49m\u001b[43m)\u001b[49m\n",
      "File \u001b[1;32m~\\AppData\\Local\\Packages\\PythonSoftwareFoundation.Python.3.12_qbz5n2kfra8p0\\LocalCache\\local-packages\\Python312\\site-packages\\spotipy\\client.py:332\u001b[0m, in \u001b[0;36mSpotify._post\u001b[1;34m(self, url, args, payload, **kwargs)\u001b[0m\n\u001b[0;32m    330\u001b[0m \u001b[38;5;28;01mif\u001b[39;00m args:\n\u001b[0;32m    331\u001b[0m     kwargs\u001b[38;5;241m.\u001b[39mupdate(args)\n\u001b[1;32m--> 332\u001b[0m \u001b[38;5;28;01mreturn\u001b[39;00m \u001b[38;5;28;43mself\u001b[39;49m\u001b[38;5;241;43m.\u001b[39;49m\u001b[43m_internal_call\u001b[49m\u001b[43m(\u001b[49m\u001b[38;5;124;43m\"\u001b[39;49m\u001b[38;5;124;43mPOST\u001b[39;49m\u001b[38;5;124;43m\"\u001b[39;49m\u001b[43m,\u001b[49m\u001b[43m \u001b[49m\u001b[43murl\u001b[49m\u001b[43m,\u001b[49m\u001b[43m \u001b[49m\u001b[43mpayload\u001b[49m\u001b[43m,\u001b[49m\u001b[43m \u001b[49m\u001b[43mkwargs\u001b[49m\u001b[43m)\u001b[49m\n",
      "File \u001b[1;32m~\\AppData\\Local\\Packages\\PythonSoftwareFoundation.Python.3.12_qbz5n2kfra8p0\\LocalCache\\local-packages\\Python312\\site-packages\\spotipy\\client.py:297\u001b[0m, in \u001b[0;36mSpotify._internal_call\u001b[1;34m(self, method, url, payload, params)\u001b[0m\n\u001b[0;32m    290\u001b[0m         reason \u001b[38;5;241m=\u001b[39m \u001b[38;5;28;01mNone\u001b[39;00m\n\u001b[0;32m    292\u001b[0m     logger\u001b[38;5;241m.\u001b[39merror(\n\u001b[0;32m    293\u001b[0m         \u001b[38;5;124m'\u001b[39m\u001b[38;5;124mHTTP Error for \u001b[39m\u001b[38;5;132;01m%s\u001b[39;00m\u001b[38;5;124m to \u001b[39m\u001b[38;5;132;01m%s\u001b[39;00m\u001b[38;5;124m with Params: \u001b[39m\u001b[38;5;132;01m%s\u001b[39;00m\u001b[38;5;124m returned \u001b[39m\u001b[38;5;132;01m%s\u001b[39;00m\u001b[38;5;124m due to \u001b[39m\u001b[38;5;132;01m%s\u001b[39;00m\u001b[38;5;124m'\u001b[39m,\n\u001b[0;32m    294\u001b[0m         method, url, args\u001b[38;5;241m.\u001b[39mget(\u001b[38;5;124m\"\u001b[39m\u001b[38;5;124mparams\u001b[39m\u001b[38;5;124m\"\u001b[39m), response\u001b[38;5;241m.\u001b[39mstatus_code, msg\n\u001b[0;32m    295\u001b[0m     )\n\u001b[1;32m--> 297\u001b[0m     \u001b[38;5;28;01mraise\u001b[39;00m SpotifyException(\n\u001b[0;32m    298\u001b[0m         response\u001b[38;5;241m.\u001b[39mstatus_code,\n\u001b[0;32m    299\u001b[0m         \u001b[38;5;241m-\u001b[39m\u001b[38;5;241m1\u001b[39m,\n\u001b[0;32m    300\u001b[0m         \u001b[38;5;124mf\u001b[39m\u001b[38;5;124m\"\u001b[39m\u001b[38;5;132;01m{\u001b[39;00mresponse\u001b[38;5;241m.\u001b[39murl\u001b[38;5;132;01m}\u001b[39;00m\u001b[38;5;124m:\u001b[39m\u001b[38;5;130;01m\\n\u001b[39;00m\u001b[38;5;124m \u001b[39m\u001b[38;5;132;01m{\u001b[39;00mmsg\u001b[38;5;132;01m}\u001b[39;00m\u001b[38;5;124m\"\u001b[39m,\n\u001b[0;32m    301\u001b[0m         reason\u001b[38;5;241m=\u001b[39mreason,\n\u001b[0;32m    302\u001b[0m         headers\u001b[38;5;241m=\u001b[39mresponse\u001b[38;5;241m.\u001b[39mheaders,\n\u001b[0;32m    303\u001b[0m     )\n\u001b[0;32m    304\u001b[0m \u001b[38;5;28;01mexcept\u001b[39;00m requests\u001b[38;5;241m.\u001b[39mexceptions\u001b[38;5;241m.\u001b[39mRetryError \u001b[38;5;28;01mas\u001b[39;00m retry_error:\n\u001b[0;32m    305\u001b[0m     request \u001b[38;5;241m=\u001b[39m retry_error\u001b[38;5;241m.\u001b[39mrequest\n",
      "\u001b[1;31mSpotifyException\u001b[0m: http status: 400, code:-1 - https://api.spotify.com/v1/playlists/3sT2fz2bRZ82NRNn4MnQnl/tracks:\n Too many ids requested, reason: None"
     ]
    }
   ],
   "source": [
    "for i in range(n_clusters):\n",
    "    \n",
    "    cluster_tracks = df[df['cluster'] == i] #\n",
    "    if not cluster_tracks.empty:\n",
    "        playlist_name = f\"Cluster {i+1} Playlist\"\n",
    "        # podemos llamar a gpt para\n",
    "        playlist = sp.user_playlist_create(user=sp.current_user()['id'], name=playlist_name) # Crear la playlist\n",
    "        \n",
    "        track_ids = []\n",
    "        for _, row in cluster_tracks.iterrows():\n",
    "            search_result = sp.search(q=f\"{row['name']} artist:{row['artist']}\", type='track')\n",
    "            items = search_result['tracks']['items']\n",
    "            if items:  # Verificar si hay resultados antes de acceder\n",
    "                track_ids.append(items[0]['id']) # Añadir el ID de la primera pista\n",
    "            else:\n",
    "                print(f\"No se encontró el track: {row['name']} de {row['artist']}\") # Imprimir si no se encontró la pista\n",
    "\n",
    "        # Añadir las pistas a la playlist\n",
    "        if track_ids:\n",
    "            sp.user_playlist_add_tracks(user=sp.current_user()['id'], playlist_id=playlist['id'], tracks=track_ids)\n",
    "            print(f\"Lista de reproducción creada: {playlist_name}\")\n",
    "        else:\n",
    "            print(f\"No se añadieron pistas a la playlist: {playlist_name}\")\n"
   ]
  },
  {
   "cell_type": "code",
   "execution_count": 10,
   "metadata": {},
   "outputs": [
    {
     "data": {
      "text/html": [
       "<div>\n",
       "<style scoped>\n",
       "    .dataframe tbody tr th:only-of-type {\n",
       "        vertical-align: middle;\n",
       "    }\n",
       "\n",
       "    .dataframe tbody tr th {\n",
       "        vertical-align: top;\n",
       "    }\n",
       "\n",
       "    .dataframe thead th {\n",
       "        text-align: right;\n",
       "    }\n",
       "</style>\n",
       "<table border=\"1\" class=\"dataframe\">\n",
       "  <thead>\n",
       "    <tr style=\"text-align: right;\">\n",
       "      <th></th>\n",
       "      <th>Duration (ms)</th>\n",
       "      <th>Popularity</th>\n",
       "      <th>Danceability</th>\n",
       "      <th>Energy</th>\n",
       "      <th>Key</th>\n",
       "      <th>Loudness</th>\n",
       "      <th>Mode</th>\n",
       "      <th>Speechiness</th>\n",
       "      <th>Acousticness</th>\n",
       "      <th>Instrumentalness</th>\n",
       "      <th>Liveness</th>\n",
       "      <th>Valence</th>\n",
       "      <th>Tempo</th>\n",
       "      <th>Time Signature</th>\n",
       "    </tr>\n",
       "  </thead>\n",
       "  <tbody>\n",
       "    <tr>\n",
       "      <th>count</th>\n",
       "      <td>585.000000</td>\n",
       "      <td>585.000000</td>\n",
       "      <td>585.000000</td>\n",
       "      <td>585.000000</td>\n",
       "      <td>585.000000</td>\n",
       "      <td>585.000000</td>\n",
       "      <td>585.000000</td>\n",
       "      <td>585.000000</td>\n",
       "      <td>585.000000</td>\n",
       "      <td>585.000000</td>\n",
       "      <td>585.000000</td>\n",
       "      <td>585.000000</td>\n",
       "      <td>585.000000</td>\n",
       "      <td>585.000000</td>\n",
       "    </tr>\n",
       "    <tr>\n",
       "      <th>mean</th>\n",
       "      <td>217778.347009</td>\n",
       "      <td>45.627350</td>\n",
       "      <td>0.614170</td>\n",
       "      <td>0.722972</td>\n",
       "      <td>5.333333</td>\n",
       "      <td>-6.637672</td>\n",
       "      <td>0.509402</td>\n",
       "      <td>0.103893</td>\n",
       "      <td>0.222630</td>\n",
       "      <td>0.072597</td>\n",
       "      <td>0.193325</td>\n",
       "      <td>0.605734</td>\n",
       "      <td>121.460453</td>\n",
       "      <td>3.916239</td>\n",
       "    </tr>\n",
       "    <tr>\n",
       "      <th>std</th>\n",
       "      <td>68669.094553</td>\n",
       "      <td>23.051267</td>\n",
       "      <td>0.150513</td>\n",
       "      <td>0.197879</td>\n",
       "      <td>3.580771</td>\n",
       "      <td>3.605142</td>\n",
       "      <td>0.500339</td>\n",
       "      <td>0.103385</td>\n",
       "      <td>0.266919</td>\n",
       "      <td>0.223944</td>\n",
       "      <td>0.150234</td>\n",
       "      <td>0.229037</td>\n",
       "      <td>31.481807</td>\n",
       "      <td>0.390152</td>\n",
       "    </tr>\n",
       "    <tr>\n",
       "      <th>min</th>\n",
       "      <td>57818.000000</td>\n",
       "      <td>0.000000</td>\n",
       "      <td>0.000000</td>\n",
       "      <td>0.014600</td>\n",
       "      <td>0.000000</td>\n",
       "      <td>-31.047000</td>\n",
       "      <td>0.000000</td>\n",
       "      <td>0.000000</td>\n",
       "      <td>0.000018</td>\n",
       "      <td>0.000000</td>\n",
       "      <td>0.032400</td>\n",
       "      <td>0.000000</td>\n",
       "      <td>0.000000</td>\n",
       "      <td>0.000000</td>\n",
       "    </tr>\n",
       "    <tr>\n",
       "      <th>25%</th>\n",
       "      <td>177789.000000</td>\n",
       "      <td>32.000000</td>\n",
       "      <td>0.516000</td>\n",
       "      <td>0.619000</td>\n",
       "      <td>2.000000</td>\n",
       "      <td>-7.708000</td>\n",
       "      <td>0.000000</td>\n",
       "      <td>0.039600</td>\n",
       "      <td>0.017300</td>\n",
       "      <td>0.000000</td>\n",
       "      <td>0.096300</td>\n",
       "      <td>0.442000</td>\n",
       "      <td>95.047000</td>\n",
       "      <td>4.000000</td>\n",
       "    </tr>\n",
       "    <tr>\n",
       "      <th>50%</th>\n",
       "      <td>211653.000000</td>\n",
       "      <td>48.000000</td>\n",
       "      <td>0.621000</td>\n",
       "      <td>0.764000</td>\n",
       "      <td>6.000000</td>\n",
       "      <td>-5.762000</td>\n",
       "      <td>1.000000</td>\n",
       "      <td>0.061200</td>\n",
       "      <td>0.103000</td>\n",
       "      <td>0.000001</td>\n",
       "      <td>0.136000</td>\n",
       "      <td>0.622000</td>\n",
       "      <td>116.047000</td>\n",
       "      <td>4.000000</td>\n",
       "    </tr>\n",
       "    <tr>\n",
       "      <th>75%</th>\n",
       "      <td>249360.000000</td>\n",
       "      <td>64.000000</td>\n",
       "      <td>0.721000</td>\n",
       "      <td>0.870000</td>\n",
       "      <td>9.000000</td>\n",
       "      <td>-4.397000</td>\n",
       "      <td>1.000000</td>\n",
       "      <td>0.116000</td>\n",
       "      <td>0.362000</td>\n",
       "      <td>0.000384</td>\n",
       "      <td>0.250000</td>\n",
       "      <td>0.797000</td>\n",
       "      <td>144.968000</td>\n",
       "      <td>4.000000</td>\n",
       "    </tr>\n",
       "    <tr>\n",
       "      <th>max</th>\n",
       "      <td>891152.000000</td>\n",
       "      <td>88.000000</td>\n",
       "      <td>0.940000</td>\n",
       "      <td>0.991000</td>\n",
       "      <td>11.000000</td>\n",
       "      <td>1.099000</td>\n",
       "      <td>1.000000</td>\n",
       "      <td>0.841000</td>\n",
       "      <td>0.994000</td>\n",
       "      <td>0.973000</td>\n",
       "      <td>0.984000</td>\n",
       "      <td>0.978000</td>\n",
       "      <td>207.771000</td>\n",
       "      <td>5.000000</td>\n",
       "    </tr>\n",
       "  </tbody>\n",
       "</table>\n",
       "</div>"
      ],
      "text/plain": [
       "       Duration (ms)  Popularity  Danceability      Energy         Key  \\\n",
       "count     585.000000  585.000000    585.000000  585.000000  585.000000   \n",
       "mean   217778.347009   45.627350      0.614170    0.722972    5.333333   \n",
       "std     68669.094553   23.051267      0.150513    0.197879    3.580771   \n",
       "min     57818.000000    0.000000      0.000000    0.014600    0.000000   \n",
       "25%    177789.000000   32.000000      0.516000    0.619000    2.000000   \n",
       "50%    211653.000000   48.000000      0.621000    0.764000    6.000000   \n",
       "75%    249360.000000   64.000000      0.721000    0.870000    9.000000   \n",
       "max    891152.000000   88.000000      0.940000    0.991000   11.000000   \n",
       "\n",
       "         Loudness        Mode  Speechiness  Acousticness  Instrumentalness  \\\n",
       "count  585.000000  585.000000   585.000000    585.000000        585.000000   \n",
       "mean    -6.637672    0.509402     0.103893      0.222630          0.072597   \n",
       "std      3.605142    0.500339     0.103385      0.266919          0.223944   \n",
       "min    -31.047000    0.000000     0.000000      0.000018          0.000000   \n",
       "25%     -7.708000    0.000000     0.039600      0.017300          0.000000   \n",
       "50%     -5.762000    1.000000     0.061200      0.103000          0.000001   \n",
       "75%     -4.397000    1.000000     0.116000      0.362000          0.000384   \n",
       "max      1.099000    1.000000     0.841000      0.994000          0.973000   \n",
       "\n",
       "         Liveness     Valence       Tempo  Time Signature  \n",
       "count  585.000000  585.000000  585.000000      585.000000  \n",
       "mean     0.193325    0.605734  121.460453        3.916239  \n",
       "std      0.150234    0.229037   31.481807        0.390152  \n",
       "min      0.032400    0.000000    0.000000        0.000000  \n",
       "25%      0.096300    0.442000   95.047000        4.000000  \n",
       "50%      0.136000    0.622000  116.047000        4.000000  \n",
       "75%      0.250000    0.797000  144.968000        4.000000  \n",
       "max      0.984000    0.978000  207.771000        5.000000  "
      ]
     },
     "execution_count": 10,
     "metadata": {},
     "output_type": "execute_result"
    }
   ],
   "source": [
    "df_tracks = pd.read_csv('PlaylistClasificador.csv')\n",
    "df_tracks.describe()"
   ]
  },
  {
   "cell_type": "code",
   "execution_count": null,
   "metadata": {},
   "outputs": [],
   "source": []
  }
 ],
 "metadata": {
  "kernelspec": {
   "display_name": "Python 3",
   "language": "python",
   "name": "python3"
  },
  "language_info": {
   "codemirror_mode": {
    "name": "ipython",
    "version": 3
   },
   "file_extension": ".py",
   "mimetype": "text/x-python",
   "name": "python",
   "nbconvert_exporter": "python",
   "pygments_lexer": "ipython3",
   "version": "3.12.5"
  }
 },
 "nbformat": 4,
 "nbformat_minor": 2
}
